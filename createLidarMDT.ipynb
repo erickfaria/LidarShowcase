{
 "cells": [
  {
   "cell_type": "markdown",
   "metadata": {},
   "source": [
    "# Criação de Modelo Digital de Terreno (MDT) a partir de dados LiDAR\n",
    "\n",
    "Este notebook demonstra como criar um Modelo Digital de Terreno (MDT) a partir de dados LiDAR utilizando diferentes métodos de interpolação."
   ]
  },
  {
   "cell_type": "markdown",
   "metadata": {},
   "source": [
    "## Instalação de Dependências (opcional)\n",
    "\n",
    "Execute a célula abaixo se você quiser instalar o PDAL e outras dependências opcionais. Caso contrário, o notebook utilizará métodos alternativos."
   ]
  },
  {
   "cell_type": "code",
   "execution_count": 1,
   "metadata": {},
   "outputs": [
    {
     "name": "stdout",
     "output_type": "stream",
     "text": [
      "Jupyter environment detected. Enabling Open3D WebVisualizer.\n",
      "[Open3D INFO] WebRTC GUI backend enabled.\n",
      "[Open3D INFO] WebRTCWindowSystem: HTTP handshake server disabled.\n"
     ]
    }
   ],
   "source": [
    "# Importando as bibliotecas necessárias\n",
    "import os\n",
    "import numpy as np\n",
    "import matplotlib.pyplot as plt\n",
    "from IPython.display import display\n",
    "import ipywidgets as widgets\n",
    "\n",
    "# Importando os módulos personalizados\n",
    "from lidar.lidarReadAndViewer import LidarFileHandler, LidarInfo, LidarVisualization\n",
    "from lidar.lidarDTM import DTMGenerator, TerrainAnalysis, ContourGenerator\n",
    "\n",
    "# Configuração para exibir figuras no notebook\n",
    "%matplotlib inline\n",
    "plt.rcParams['figure.figsize'] = [12, 8]"
   ]
  },
  {
   "cell_type": "markdown",
   "metadata": {},
   "source": [
    "## 1. Seleção e carregamento de dados LiDAR"
   ]
  },
  {
   "cell_type": "code",
   "execution_count": 2,
   "metadata": {},
   "outputs": [
    {
     "name": "stdout",
     "output_type": "stream",
     "text": [
      "Foram encontrados 6 arquivos LiDAR no diretório 'data'.\n"
     ]
    },
    {
     "data": {
      "application/vnd.jupyter.widget-view+json": {
       "model_id": "6d3766781b6f48ff8987ac2f84626ec8",
       "version_major": 2,
       "version_minor": 0
      },
      "text/plain": [
       "Dropdown(description='Select file:', options=('USGS_LPC_NE_Statewide_D23_13T_FG_7085.las', 'USGS_LPC_NE_Statew…"
      ]
     },
     "metadata": {},
     "output_type": "display_data"
    }
   ],
   "source": [
    "# Listar arquivos LAS/LAZ disponíveis\n",
    "las_files, data_dir = LidarFileHandler.list_las_files(data_dir=\"data\")\n",
    "\n",
    "if not las_files:\n",
    "    print(\"Nenhum arquivo LAS/LAZ encontrado no diretório 'data'.\")\n",
    "else:\n",
    "    print(f\"Foram encontrados {len(las_files)} arquivos LiDAR no diretório '{data_dir}'.\")\n",
    "    # Criar widget para selecionar arquivo\n",
    "    file_dropdown, selected_file_path = LidarFileHandler.create_file_selector(las_files, data_dir)\n",
    "    display(file_dropdown)"
   ]
  },
  {
   "cell_type": "code",
   "execution_count": 3,
   "metadata": {},
   "outputs": [
    {
     "name": "stdout",
     "output_type": "stream",
     "text": [
      "\n",
      "File loaded successfully!\n"
     ]
    }
   ],
   "source": [
    "# Carregar o arquivo LiDAR selecionado\n",
    "if 'selected_file_path' in locals() and selected_file_path:\n",
    "    las_data = LidarFileHandler.read_las_file(selected_file_path)\n",
    "else:\n",
    "    print(\"Por favor, selecione um arquivo LiDAR primeiro.\")"
   ]
  },
  {
   "cell_type": "markdown",
   "metadata": {},
   "source": [
    "## 4. Criação do Modelo Digital de Terreno (MDT)"
   ]
  },
  {
   "cell_type": "code",
   "execution_count": 9,
   "metadata": {},
   "outputs": [
    {
     "data": {
      "application/vnd.jupyter.widget-view+json": {
       "model_id": "cbeaa7e3c59f4e109d4858704c5bb7f6",
       "version_major": 2,
       "version_minor": 0
      },
      "text/plain": [
       "FloatSlider(value=1.0, continuous_update=False, description='Resolução (m):', max=5.0, min=0.1, style=SliderSt…"
      ]
     },
     "metadata": {},
     "output_type": "display_data"
    }
   ],
   "source": [
    "# Definir a resolução do MDT\n",
    "resolution_slider = widgets.FloatSlider(\n",
    "    value=1.0,\n",
    "    min=0.1,\n",
    "    max=5.0,\n",
    "    step=0.1,\n",
    "    description='Resolução (m):',\n",
    "    continuous_update=False,\n",
    "    style={'description_width': 'initial'}\n",
    ")\n",
    "display(resolution_slider)"
   ]
  },
  {
   "cell_type": "code",
   "execution_count": 10,
   "metadata": {},
   "outputs": [
    {
     "name": "stdout",
     "output_type": "stream",
     "text": [
      "Gerador de MDT inicializado com resolução de 1.0000000000000002m\n"
     ]
    }
   ],
   "source": [
    "# Criar o gerador de MDT\n",
    "if 'las_data' in locals() and las_data is not None:\n",
    "    dtm_generator = DTMGenerator(las_data, resolution=resolution_slider.value)\n",
    "    print(f\"Gerador de MDT inicializado com resolução de {resolution_slider.value}m\")\n",
    "else:\n",
    "    print(\"Dados LiDAR não carregados.\")"
   ]
  },
  {
   "cell_type": "markdown",
   "metadata": {},
   "source": [
    "### 4.1 Método de interpolação simples"
   ]
  },
  {
   "cell_type": "code",
   "execution_count": null,
   "metadata": {},
   "outputs": [
    {
     "name": "stdout",
     "output_type": "stream",
     "text": [
      "Extracted 23,389,564 ground points out of 24,636,066 total points\n",
      "Creating grid with dimensions: 1000 x 1000\n",
      "Interpolating with method: linear\n"
     ]
    }
   ],
   "source": [
    "# Criar MDT usando interpolação simples\n",
    "if 'dtm_generator' in locals():\n",
    "    dtm_simple = dtm_generator.generate_simple_dtm(method='linear')\n",
    "    # Visualizar o MDT\n",
    "    fig = dtm_generator.visualize_dtm(add_hillshade=True)\n",
    "    plt.title(f\"MDT - Método de interpolação linear (resolução: {resolution_slider.value}m)\")\n",
    "    plt.show()\n",
    "else:\n",
    "    print(\"Gerador de MDT não inicializado.\")"
   ]
  },
  {
   "cell_type": "markdown",
   "metadata": {},
   "source": [
    "### 4.2 Método Radial Basis Function (RBF)"
   ]
  },
  {
   "cell_type": "code",
   "execution_count": null,
   "metadata": {},
   "outputs": [],
   "source": [
    "# Criar MDT usando interpolação RBF\n",
    "if 'dtm_generator' in locals():\n",
    "    print(\"Gerando MDT usando Radial Basis Function (RBF)...\")\n",
    "    print(\"Esta operação pode levar alguns minutos dependendo do tamanho do conjunto de dados.\")\n",
    "    dtm_rbf = dtm_generator.generate_rbf_dtm(function='thin_plate', smooth=0.1)\n",
    "    # Visualizar o MDT\n",
    "    fig = dtm_generator.visualize_dtm(add_hillshade=True)\n",
    "    plt.title(f\"MDT - Método RBF (thin_plate) (resolução: {resolution_slider.value}m)\")\n",
    "    plt.show()\n",
    "else:\n",
    "    print(\"Gerador de MDT não inicializado.\")"
   ]
  },
  {
   "cell_type": "markdown",
   "metadata": {},
   "source": [
    "### 4.3 Método PDAL (mais avançado)"
   ]
  },
  {
   "cell_type": "code",
   "execution_count": null,
   "metadata": {},
   "outputs": [],
   "source": [
    "# Criar MDT usando PDAL (se disponível, caso contrário usará um método alternativo)\n",
    "if 'dtm_generator' in locals():\n",
    "    print(\"Gerando MDT usando pipeline PDAL (ou método alternativo se PDAL não estiver disponível)...\")\n",
    "    print(\"Esta operação pode levar alguns minutos.\")\n",
    "    dtm_pdal = dtm_generator.generate_pdal_dtm()\n",
    "    # Visualizar o MDT\n",
    "    fig = dtm_generator.visualize_dtm(add_hillshade=True)\n",
    "    plt.title(f\"MDT - Método {'PDAL' if hasattr(dtm_generator.dtm, 'method') and 'pdal' in dtm_generator.dtm['method'] else 'Alternativo'} (resolução: {resolution_slider.value}m)\")\n",
    "    plt.show()\n",
    "else:\n",
    "    print(\"Gerador de MDT não inicializado.\")"
   ]
  },
  {
   "cell_type": "markdown",
   "metadata": {},
   "source": [
    "## 5. Pós-processamento do MDT"
   ]
  },
  {
   "cell_type": "code",
   "execution_count": null,
   "metadata": {},
   "outputs": [],
   "source": [
    "# Aplicar pós-processamento ao MDT\n",
    "if 'dtm_generator' in locals() and dtm_generator.dtm is not None:\n",
    "    # Aplicar preenchimento de vazios e suavização\n",
    "    dtm_generator.apply_post_processing(fill_nodata=True, smoothing='gaussian')\n",
    "    \n",
    "    # Visualizar o MDT pós-processado\n",
    "    fig = dtm_generator.visualize_dtm(add_hillshade=True)\n",
    "    plt.title(f\"MDT Pós-processado (preenchido e suavizado)\")\n",
    "    plt.show()\n",
    "else:\n",
    "    print(\"MDT não disponível para pós-processamento.\")"
   ]
  },
  {
   "cell_type": "markdown",
   "metadata": {},
   "source": [
    "## 6. Análise do Terreno"
   ]
  },
  {
   "cell_type": "code",
   "execution_count": null,
   "metadata": {},
   "outputs": [],
   "source": [
    "# Calcular e visualizar inclinação do terreno\n",
    "if 'dtm_generator' in locals() and dtm_generator.dtm is not None:\n",
    "    print(\"Calculando inclinação do terreno...\")\n",
    "    fig = TerrainAnalysis.visualize_terrain_attributes(dtm_generator.dtm, attribute='slope')\n",
    "    plt.show()\n",
    "else:\n",
    "    print(\"MDT não disponível para análise.\")"
   ]
  },
  {
   "cell_type": "code",
   "execution_count": null,
   "metadata": {},
   "outputs": [],
   "source": [
    "# Calcular e visualizar aspecto do terreno\n",
    "if 'dtm_generator' in locals() and dtm_generator.dtm is not None:\n",
    "    print(\"Calculando aspecto do terreno...\")\n",
    "    fig = TerrainAnalysis.visualize_terrain_attributes(dtm_generator.dtm, attribute='aspect')\n",
    "    plt.show()\n",
    "else:\n",
    "    print(\"MDT não disponível para análise.\")"
   ]
  },
  {
   "cell_type": "code",
   "execution_count": null,
   "metadata": {},
   "outputs": [],
   "source": [
    "# Calcular e visualizar hillshade\n",
    "if 'dtm_generator' in locals() and dtm_generator.dtm is not None:\n",
    "    print(\"Gerando hillshade...\")\n",
    "    fig = TerrainAnalysis.visualize_terrain_attributes(dtm_generator.dtm, attribute='hillshade')\n",
    "    plt.show()\n",
    "else:\n",
    "    print(\"MDT não disponível para análise.\")"
   ]
  },
  {
   "cell_type": "code",
   "execution_count": null,
   "metadata": {},
   "outputs": [],
   "source": [
    "# Calcular e visualizar curvatura do terreno\n",
    "if 'dtm_generator' in locals() and dtm_generator.dtm is not None:\n",
    "    print(\"Calculando curvatura do terreno...\")\n",
    "    fig = TerrainAnalysis.visualize_terrain_attributes(dtm_generator.dtm, attribute='curvature')\n",
    "    plt.show()\n",
    "else:\n",
    "    print(\"MDT não disponível para análise.\")"
   ]
  },
  {
   "cell_type": "code",
   "execution_count": null,
   "metadata": {},
   "outputs": [],
   "source": [
    "# Gerar curvas de nível\n",
    "if 'dtm_generator' in locals() and dtm_generator.dtm is not None:\n",
    "    print(\"Gerando curvas de nível...\")\n",
    "    interval_slider = widgets.IntSlider(\n",
    "        value=5,\n",
    "        min=1,\n",
    "        max=20,\n",
    "        step=1,\n",
    "        description='Intervalo (m):',\n",
    "        continuous_update=False\n",
    "    )\n",
    "    display(interval_slider)\n",
    "    contour_set = ContourGenerator.generate_contours(dtm_generator.dtm, interval=interval_slider.value)\n",
    "    plt.show()\n",
    "else:\n",
    "    print(\"MDT não disponível para análise.\")"
   ]
  },
  {
   "cell_type": "markdown",
   "metadata": {},
   "source": [
    "## 7. Exportação do MDT"
   ]
  },
  {
   "cell_type": "code",
   "execution_count": null,
   "metadata": {},
   "outputs": [],
   "source": [
    "# Exportar MDT para diversos formatos\n",
    "if 'dtm_generator' in locals() and dtm_generator.dtm is not None:\n",
    "    # Selecionar formatos de exportação\n",
    "    format_selector = widgets.SelectMultiple(\n",
    "        options=['tif', 'asc', 'png', 'xyz'],\n",
    "        value=['tif', 'png'],\n",
    "        description='Formatos:',\n",
    "        style={'description_width': 'initial'}\n",
    "    )\n",
    "    display(format_selector)\n",
    "    \n",
    "    # Botão para exportar\n",
    "    export_button = widgets.Button(\n",
    "        description='Exportar MDT',\n",
    "        button_style='danger'\n",
    "    )\n",
    "    \n",
    "    def on_export_button_clicked(b):\n",
    "        formats = list(format_selector.value)\n",
    "        print(f\"Exportando MDT nos formatos: {', '.join(formats)}\")\n",
    "        output_files = dtm_generator.export_dtm(format_list=formats)\n",
    "        print(f\"Arquivos exportados: {output_files}\")\n",
    "    \n",
    "    export_button.on_click(on_export_button_clicked)\n",
    "    display(export_button)\n",
    "else:\n",
    "    print(\"MDT não disponível para exportação.\")"
   ]
  },
  {
   "cell_type": "markdown",
   "metadata": {},
   "source": [
    "## 8. Conclusão\n",
    "\n",
    "Neste notebook, demonstramos como:\n",
    "1. Carregar e visualizar dados LiDAR\n",
    "2. Criar um Modelo Digital de Terreno (MDT) usando diferentes métodos\n",
    "3. Aplicar pós-processamento ao MDT\n",
    "4. Realizar análises de terreno (inclinação, aspecto, hillshade, curvatura)\n",
    "5. Gerar curvas de nível\n",
    "6. Exportar o MDT em diferentes formatos\n",
    "\n",
    "Estas ferramentas são fundamentais para análises geoespaciais e estudos de terreno."
   ]
  }
 ],
 "metadata": {
  "kernelspec": {
   "display_name": "Python 3",
   "language": "python",
   "name": "python3"
  },
  "language_info": {
   "codemirror_mode": {
    "name": "ipython",
    "version": 3
   },
   "file_extension": ".py",
   "mimetype": "text/x-python",
   "name": "python",
   "nbconvert_exporter": "python",
   "pygments_lexer": "ipython3",
   "version": "3.12.9"
  }
 },
 "nbformat": 4,
 "nbformat_minor": 2
}
