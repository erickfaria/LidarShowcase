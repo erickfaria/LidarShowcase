{
 "cells": [
  {
   "cell_type": "markdown",
   "metadata": {},
   "source": [
    "# Criação de Modelo Digital de Terreno (MDT) a partir de dados LiDAR\n",
    "\n",
    "Este notebook demonstra como criar um Modelo Digital de Terreno (MDT) a partir de dados LiDAR utilizando diferentes métodos de interpolação."
   ]
  },
  {
   "cell_type": "code",
   "execution_count": 1,
   "metadata": {},
   "outputs": [
    {
     "name": "stdout",
     "output_type": "stream",
     "text": [
      "Jupyter environment detected. Enabling Open3D WebVisualizer.\n",
      "[Open3D INFO] WebRTC GUI backend enabled.\n",
      "[Open3D INFO] WebRTCWindowSystem: HTTP handshake server disabled.\n"
     ]
    },
    {
     "ename": "ModuleNotFoundError",
     "evalue": "No module named 'pdal'",
     "output_type": "error",
     "traceback": [
      "\u001b[1;31m---------------------------------------------------------------------------\u001b[0m",
      "\u001b[1;31mModuleNotFoundError\u001b[0m                       Traceback (most recent call last)",
      "Cell \u001b[1;32mIn[1], line 10\u001b[0m\n\u001b[0;32m      8\u001b[0m \u001b[38;5;66;03m# Importando os módulos personalizados\u001b[39;00m\n\u001b[0;32m      9\u001b[0m \u001b[38;5;28;01mfrom\u001b[39;00m \u001b[38;5;21;01mlidar\u001b[39;00m\u001b[38;5;21;01m.\u001b[39;00m\u001b[38;5;21;01mlidarReadAndViewer\u001b[39;00m \u001b[38;5;28;01mimport\u001b[39;00m LidarFileHandler, LidarInfo, LidarVisualization\n\u001b[1;32m---> 10\u001b[0m \u001b[38;5;28;01mfrom\u001b[39;00m \u001b[38;5;21;01mlidar\u001b[39;00m\u001b[38;5;21;01m.\u001b[39;00m\u001b[38;5;21;01mlidarDTM\u001b[39;00m \u001b[38;5;28;01mimport\u001b[39;00m DTMGenerator, TerrainAnalysis, ContourGenerator\n\u001b[0;32m     12\u001b[0m \u001b[38;5;66;03m# Configuração para exibir figuras no notebook\u001b[39;00m\n\u001b[0;32m     13\u001b[0m get_ipython()\u001b[38;5;241m.\u001b[39mrun_line_magic(\u001b[38;5;124m'\u001b[39m\u001b[38;5;124mmatplotlib\u001b[39m\u001b[38;5;124m'\u001b[39m, \u001b[38;5;124m'\u001b[39m\u001b[38;5;124minline\u001b[39m\u001b[38;5;124m'\u001b[39m)\n",
      "File \u001b[1;32md:\\erick\\repositories\\LidarShowcase\\lidar\\lidarDTM.py:14\u001b[0m\n\u001b[0;32m     12\u001b[0m \u001b[38;5;28;01mimport\u001b[39;00m \u001b[38;5;21;01mlaspy\u001b[39;00m\n\u001b[0;32m     13\u001b[0m \u001b[38;5;28;01mimport\u001b[39;00m \u001b[38;5;21;01mgeopandas\u001b[39;00m \u001b[38;5;28;01mas\u001b[39;00m \u001b[38;5;21;01mgpd\u001b[39;00m\n\u001b[1;32m---> 14\u001b[0m \u001b[38;5;28;01mimport\u001b[39;00m \u001b[38;5;21;01mpdal\u001b[39;00m\n\u001b[0;32m     15\u001b[0m \u001b[38;5;28;01mimport\u001b[39;00m \u001b[38;5;21;01mjson\u001b[39;00m\n\u001b[0;32m     16\u001b[0m \u001b[38;5;28;01mfrom\u001b[39;00m \u001b[38;5;21;01mosgeo\u001b[39;00m \u001b[38;5;28;01mimport\u001b[39;00m gdal\n",
      "\u001b[1;31mModuleNotFoundError\u001b[0m: No module named 'pdal'"
     ]
    }
   ],
   "source": [
    "# Importando as bibliotecas necessárias\n",
    "import os\n",
    "import numpy as np\n",
    "import matplotlib.pyplot as plt\n",
    "from IPython.display import display\n",
    "import ipywidgets as widgets\n",
    "\n",
    "# Importando os módulos personalizados\n",
    "from lidar.lidarReadAndViewer import LidarFileHandler, LidarInfo, LidarVisualization\n",
    "from lidar.lidarDTM import DTMGenerator, TerrainAnalysis, ContourGenerator\n",
    "\n",
    "# Configuração para exibir figuras no notebook\n",
    "%matplotlib inline\n",
    "plt.rcParams['figure.figsize'] = [12, 8]"
   ]
  },
  {
   "cell_type": "markdown",
   "metadata": {},
   "source": [
    "## 1. Seleção e carregamento de dados LiDAR"
   ]
  },
  {
   "cell_type": "code",
   "execution_count": null,
   "metadata": {},
   "outputs": [],
   "source": [
    "# Listar arquivos LAS/LAZ disponíveis\n",
    "las_files, data_dir = LidarFileHandler.list_las_files(data_dir=\"data\")\n",
    "\n",
    "if not las_files:\n",
    "    print(\"Nenhum arquivo LAS/LAZ encontrado no diretório 'data'.\")\n",
    "else:\n",
    "    print(f\"Foram encontrados {len(las_files)} arquivos LiDAR no diretório '{data_dir}'.\")\n",
    "    # Criar widget para selecionar arquivo\n",
    "    file_dropdown, selected_file_path = LidarFileHandler.create_file_selector(las_files, data_dir)\n",
    "    display(file_dropdown)"
   ]
  },
  {
   "cell_type": "code",
   "execution_count": null,
   "metadata": {},
   "outputs": [],
   "source": [
    "# Carregar o arquivo LiDAR selecionado\n",
    "if 'selected_file_path' in locals() and selected_file_path:\n",
    "    las_data = LidarFileHandler.read_las_file(selected_file_path)\n",
    "else:\n",
    "    print(\"Por favor, selecione um arquivo LiDAR primeiro.\")"
   ]
  },
  {
   "cell_type": "markdown",
   "metadata": {},
   "source": [
    "## 2. Explorando os dados LiDAR"
   ]
  },
  {
   "cell_type": "code",
   "execution_count": null,
   "metadata": {},
   "outputs": [],
   "source": [
    "# Exibir informações básicas sobre o arquivo LiDAR\n",
    "if 'las_data' in locals() and las_data is not None:\n",
    "    LidarInfo.print_basic_info(las_data)\n",
    "else:\n",
    "    print(\"Dados LiDAR não carregados.\")"
   ]
  },
  {
   "cell_type": "code",
   "execution_count": null,
   "metadata": {},
   "outputs": [],
   "source": [
    "# Visualizar distribuição de classes no LiDAR\n",
    "if 'las_data' in locals() and las_data is not None:\n",
    "    LidarVisualization.plot_classification_stats(las_data)\n",
    "else:\n",
    "    print(\"Dados LiDAR não carregados.\")"
   ]
  },
  {
   "cell_type": "code",
   "execution_count": null,
   "metadata": {},
   "outputs": [],
   "source": [
    "# Visualizar nuvem de pontos 2D\n",
    "if 'las_data' in locals() and las_data is not None:\n",
    "    LidarVisualization.plot_2d_view(las_data, max_points=300000, point_size=0.1, use_hexbin=True)\n",
    "else:\n",
    "    print(\"Dados LiDAR não carregados.\")"
   ]
  },
  {
   "cell_type": "code",
   "execution_count": null,
   "metadata": {},
   "outputs": [],
   "source": [
    "# Criar visualização 3D interativa\n",
    "if 'las_data' in locals() and las_data is not None:\n",
    "    fig_3d = LidarVisualization.plot_3d_plotly(las_data, max_points=300000, point_size=1.5, opacity=0.6)\n",
    "    fig_3d.show()\n",
    "else:\n",
    "    print(\"Dados LiDAR não carregados.\")"
   ]
  },
  {
   "cell_type": "markdown",
   "metadata": {},
   "source": [
    "## 3. Visualizando pontos de solo (classe 2)"
   ]
  },
  {
   "cell_type": "code",
   "execution_count": null,
   "metadata": {},
   "outputs": [],
   "source": [
    "# Visualizar apenas os pontos classificados como solo (classe 2)\n",
    "if 'las_data' in locals() and las_data is not None:\n",
    "    ground_x, ground_y, ground_z = LidarVisualization.plot_points_by_class(las_data, 2, \n",
    "                                                                        max_points=500000, \n",
    "                                                                        title=\"Pontos de Solo (Classe 2)\")\n",
    "    print(f\"Total de pontos de solo: {len(ground_x):,}\")\n",
    "else:\n",
    "    print(\"Dados LiDAR não carregados.\")"
   ]
  },
  {
   "cell_type": "markdown",
   "metadata": {},
   "source": [
    "## 4. Criação do Modelo Digital de Terreno (MDT)"
   ]
  },
  {
   "cell_type": "code",
   "execution_count": null,
   "metadata": {},
   "outputs": [],
   "source": [
    "# Definir a resolução do MDT\n",
    "resolution_slider = widgets.FloatSlider(\n",
    "    value=1.0,\n",
    "    min=0.1,\n",
    "    max=5.0,\n",
    "    step=0.1,\n",
    "    description='Resolução (m):',\n",
    "    continuous_update=False,\n",
    "    style={'description_width': 'initial'}\n",
    ")\n",
    "display(resolution_slider)"
   ]
  },
  {
   "cell_type": "code",
   "execution_count": null,
   "metadata": {},
   "outputs": [],
   "source": [
    "# Criar o gerador de MDT\n",
    "if 'las_data' in locals() and las_data is not None:\n",
    "    dtm_generator = DTMGenerator(las_data, resolution=resolution_slider.value)\n",
    "    print(f\"Gerador de MDT inicializado com resolução de {resolution_slider.value}m\")\n",
    "else:\n",
    "    print(\"Dados LiDAR não carregados.\")"
   ]
  },
  {
   "cell_type": "markdown",
   "metadata": {},
   "source": [
    "### 4.1 Método de interpolação simples"
   ]
  },
  {
   "cell_type": "code",
   "execution_count": null,
   "metadata": {},
   "outputs": [],
   "source": [
    "# Criar MDT usando interpolação simples\n",
    "if 'dtm_generator' in locals():\n",
    "    dtm_simple = dtm_generator.generate_simple_dtm(method='linear')\n",
    "    # Visualizar o MDT\n",
    "    fig = dtm_generator.visualize_dtm(add_hillshade=True)\n",
    "    plt.title(f\"MDT - Método de interpolação linear (resolução: {resolution_slider.value}m)\")\n",
    "    plt.show()\n",
    "else:\n",
    "    print(\"Gerador de MDT não inicializado.\")"
   ]
  },
  {
   "cell_type": "markdown",
   "metadata": {},
   "source": [
    "### 4.2 Método Radial Basis Function (RBF)"
   ]
  },
  {
   "cell_type": "code",
   "execution_count": null,
   "metadata": {},
   "outputs": [],
   "source": [
    "# Criar MDT usando interpolação RBF\n",
    "if 'dtm_generator' in locals():\n",
    "    print(\"Gerando MDT usando Radial Basis Function (RBF)...\")\n",
    "    print(\"Esta operação pode levar alguns minutos dependendo do tamanho do conjunto de dados.\")\n",
    "    dtm_rbf = dtm_generator.generate_rbf_dtm(function='thin_plate', smooth=0.1)\n",
    "    # Visualizar o MDT\n",
    "    fig = dtm_generator.visualize_dtm(add_hillshade=True)\n",
    "    plt.title(f\"MDT - Método RBF (thin_plate) (resolução: {resolution_slider.value}m)\")\n",
    "    plt.show()\n",
    "else:\n",
    "    print(\"Gerador de MDT não inicializado.\")"
   ]
  },
  {
   "cell_type": "markdown",
   "metadata": {},
   "source": [
    "### 4.3 Método PDAL (mais avançado)"
   ]
  },
  {
   "cell_type": "code",
   "execution_count": null,
   "metadata": {},
   "outputs": [],
   "source": [
    "# Criar MDT usando PDAL\n",
    "if 'dtm_generator' in locals():\n",
    "    print(\"Gerando MDT usando pipeline PDAL...\")\n",
    "    print(\"Esta operação pode levar alguns minutos.\")\n",
    "    dtm_pdal = dtm_generator.generate_pdal_dtm()\n",
    "    # Visualizar o MDT\n",
    "    fig = dtm_generator.visualize_dtm(add_hillshade=True)\n",
    "    plt.title(f\"MDT - Método PDAL (resolução: {resolution_slider.value}m)\")\n",
    "    plt.show()\n",
    "else:\n",
    "    print(\"Gerador de MDT não inicializado.\")"
   ]
  },
  {
   "cell_type": "markdown",
   "metadata": {},
   "source": [
    "## 5. Pós-processamento do MDT"
   ]
  },
  {
   "cell_type": "code",
   "execution_count": null,
   "metadata": {},
   "outputs": [],
   "source": [
    "# Aplicar pós-processamento ao MDT\n",
    "if 'dtm_generator' in locals() and dtm_generator.dtm is not None:\n",
    "    # Aplicar preenchimento de vazios e suavização\n",
    "    dtm_generator.apply_post_processing(fill_nodata=True, smoothing='gaussian')\n",
    "    \n",
    "    # Visualizar o MDT pós-processado\n",
    "    fig = dtm_generator.visualize_dtm(add_hillshade=True)\n",
    "    plt.title(f\"MDT Pós-processado (preenchido e suavizado)\")\n",
    "    plt.show()\n",
    "else:\n",
    "    print(\"MDT não disponível para pós-processamento.\")"
   ]
  },
  {
   "cell_type": "markdown",
   "metadata": {},
   "source": [
    "## 6. Análise do Terreno"
   ]
  },
  {
   "cell_type": "code",
   "execution_count": null,
   "metadata": {},
   "outputs": [],
   "source": [
    "# Calcular e visualizar inclinação do terreno\n",
    "if 'dtm_generator' in locals() and dtm_generator.dtm is not None:\n",
    "    print(\"Calculando inclinação do terreno...\")\n",
    "    fig = TerrainAnalysis.visualize_terrain_attributes(dtm_generator.dtm, attribute='slope')\n",
    "    plt.show()\n",
    "else:\n",
    "    print(\"MDT não disponível para análise.\")"
   ]
  },
  {
   "cell_type": "code",
   "execution_count": null,
   "metadata": {},
   "outputs": [],
   "source": [
    "# Calcular e visualizar aspecto do terreno\n",
    "if 'dtm_generator' in locals() and dtm_generator.dtm is not None:\n",
    "    print(\"Calculando aspecto do terreno...\")\n",
    "    fig = TerrainAnalysis.visualize_terrain_attributes(dtm_generator.dtm, attribute='aspect')\n",
    "    plt.show()\n",
    "else:\n",
    "    print(\"MDT não disponível para análise.\")"
   ]
  },
  {
   "cell_type": "code",
   "execution_count": null,
   "metadata": {},
   "outputs": [],
   "source": [
    "# Calcular e visualizar hillshade\n",
    "if 'dtm_generator' in locals() and dtm_generator.dtm is not None:\n",
    "    print(\"Gerando hillshade...\")\n",
    "    fig = TerrainAnalysis.visualize_terrain_attributes(dtm_generator.dtm, attribute='hillshade')\n",
    "    plt.show()\n",
    "else:\n",
    "    print(\"MDT não disponível para análise.\")"
   ]
  },
  {
   "cell_type": "code",
   "execution_count": null,
   "metadata": {},
   "outputs": [],
   "source": [
    "# Calcular e visualizar curvatura do terreno\n",
    "if 'dtm_generator' in locals() and dtm_generator.dtm is not None:\n",
    "    print(\"Calculando curvatura do terreno...\")\n",
    "    fig = TerrainAnalysis.visualize_terrain_attributes(dtm_generator.dtm, attribute='curvature')\n",
    "    plt.show()\n",
    "else:\n",
    "    print(\"MDT não disponível para análise.\")"
   ]
  },
  {
   "cell_type": "code",
   "execution_count": null,
   "metadata": {},
   "outputs": [],
   "source": [
    "# Gerar curvas de nível\n",
    "if 'dtm_generator' in locals() and dtm_generator.dtm is not None:\n",
    "    print(\"Gerando curvas de nível...\")\n",
    "    interval_slider = widgets.IntSlider(\n",
    "        value=5,\n",
    "        min=1,\n",
    "        max=20,\n",
    "        step=1,\n",
    "        description='Intervalo (m):',\n",
    "        continuous_update=False\n",
    "    )\n",
    "    display(interval_slider)\n",
    "    contour_set = ContourGenerator.generate_contours(dtm_generator.dtm, interval=interval_slider.value)\n",
    "    plt.show()\n",
    "else:\n",
    "    print(\"MDT não disponível para análise.\")"
   ]
  },
  {
   "cell_type": "markdown",
   "metadata": {},
   "source": [
    "## 7. Exportação do MDT"
   ]
  },
  {
   "cell_type": "code",
   "execution_count": null,
   "metadata": {},
   "outputs": [],
   "source": [
    "# Exportar MDT para diversos formatos\n",
    "if 'dtm_generator' in locals() and dtm_generator.dtm is not None:\n",
    "    # Selecionar formatos de exportação\n",
    "    format_selector = widgets.SelectMultiple(\n",
    "        options=['tif', 'asc', 'png', 'xyz'],\n",
    "        value=['tif', 'png'],\n",
    "        description='Formatos:',\n",
    "        style={'description_width': 'initial'}\n",
    "    )\n",
    "    display(format_selector)\n",
    "    \n",
    "    # Botão para exportar\n",
    "    export_button = widgets.Button(\n",
    "        description='Exportar MDT',\n",
    "        button_style='danger'\n",
    "    )\n",
    "    \n",
    "    def on_export_button_clicked(b):\n",
    "        formats = list(format_selector.value)\n",
    "        print(f\"Exportando MDT nos formatos: {', '.join(formats)}\")\n",
    "        output_files = dtm_generator.export_dtm(format_list=formats)\n",
    "        print(f\"Arquivos exportados: {output_files}\")\n",
    "    \n",
    "    export_button.on_click(on_export_button_clicked)\n",
    "    display(export_button)\n",
    "else:\n",
    "    print(\"MDT não disponível para exportação.\")"
   ]
  },
  {
   "cell_type": "markdown",
   "metadata": {},
   "source": [
    "## 8. Conclusão\n",
    "\n",
    "Neste notebook, demonstramos como:\n",
    "1. Carregar e visualizar dados LiDAR\n",
    "2. Criar um Modelo Digital de Terreno (MDT) usando diferentes métodos\n",
    "3. Aplicar pós-processamento ao MDT\n",
    "4. Realizar análises de terreno (inclinação, aspecto, hillshade, curvatura)\n",
    "5. Gerar curvas de nível\n",
    "6. Exportar o MDT em diferentes formatos\n",
    "\n",
    "Estas ferramentas são fundamentais para análises geoespaciais e estudos de terreno."
   ]
  }
 ],
 "metadata": {
  "kernelspec": {
   "display_name": "Python 3",
   "language": "python",
   "name": "python3"
  },
  "language_info": {
   "codemirror_mode": {
    "name": "ipython",
    "version": 3
   },
   "file_extension": ".py",
   "mimetype": "text/x-python",
   "name": "python",
   "nbconvert_exporter": "python",
   "pygments_lexer": "ipython3",
   "version": "3.12.9"
  }
 },
 "nbformat": 4,
 "nbformat_minor": 2
}
