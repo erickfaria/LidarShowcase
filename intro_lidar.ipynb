{
 "cells": [
  {
   "cell_type": "markdown",
   "metadata": {},
   "source": [
    "# Introdução ao Processamento de Dados LiDAR\n",
    "\n",
    "Este notebook demonstra as principais funcionalidades da biblioteca `lidar_utils.py` para processamento e visualização de dados LiDAR."
   ]
  },
  {
   "cell_type": "markdown",
   "metadata": {},
   "source": [
    "## Importando as bibliotecas necessárias"
   ]
  },
  {
   "cell_type": "code",
   "execution_count": 1,
   "metadata": {},
   "outputs": [
    {
     "name": "stdout",
     "output_type": "stream",
     "text": [
      "Jupyter environment detected. Enabling Open3D WebVisualizer.\n",
      "[Open3D INFO] WebRTC GUI backend enabled.\n",
      "[Open3D INFO] WebRTCWindowSystem: HTTP handshake server disabled.\n"
     ]
    }
   ],
   "source": [
    "import os\n",
    "import numpy as np\n",
    "import matplotlib.pyplot as plt\n",
    "\n",
    "# Importar as classes do módulo lidar_utils\n",
    "from lidar_utils import LidarFileHandler, LidarInfo, LidarVisualization, LidarProcessing"
   ]
  },
  {
   "cell_type": "markdown",
   "metadata": {},
   "source": [
    "## 1. Carregamento de Dados LiDAR\n",
    "\n",
    "Primeiro, vamos listar e selecionar arquivos LAS/LAZ disponíveis."
   ]
  },
  {
   "cell_type": "code",
   "execution_count": 2,
   "metadata": {},
   "outputs": [
    {
     "name": "stdout",
     "output_type": "stream",
     "text": [
      "Arquivos LiDAR encontrados: 6\n",
      "  1. USGS_LPC_NE_Statewide_D23_13T_FG_7085.las\n",
      "  2. USGS_LPC_NE_Statewide_D23_13T_FG_7085.laz\n",
      "  3. USGS_LPC_NE_Statewide_D23_13T_GH_2362.las\n",
      "  4. USGS_LPC_NE_Statewide_D23_13T_GH_2362.laz\n",
      "  5. USGS_LPC_NE_Statewide_D23_13T_GH_3843.las\n",
      "  6. USGS_LPC_NE_Statewide_D23_13T_GH_3843.laz\n"
     ]
    },
    {
     "data": {
      "application/vnd.jupyter.widget-view+json": {
       "model_id": "500bcf77361f4f09a15826a6c40fdcea",
       "version_major": 2,
       "version_minor": 0
      },
      "text/plain": [
       "Dropdown(description='Selecione o arquivo:', options=('USGS_LPC_NE_Statewide_D23_13T_FG_7085.las', 'USGS_LPC_N…"
      ]
     },
     "metadata": {},
     "output_type": "display_data"
    }
   ],
   "source": [
    "# Listar arquivos LAS/LAZ disponíveis no diretório \"data\"\n",
    "las_files, data_dir = LidarFileHandler.list_las_files(data_dir=\"data\")\n",
    "\n",
    "if las_files:\n",
    "    print(f\"Arquivos LiDAR encontrados: {len(las_files)}\")\n",
    "    for i, file in enumerate(las_files):\n",
    "        print(f\"  {i+1}. {file}\")\n",
    "    \n",
    "    # Criar widget para seleção de arquivos\n",
    "    file_dropdown, selected_file_path = LidarFileHandler.create_file_selector(las_files, data_dir)\n",
    "    display(file_dropdown)\n",
    "else:\n",
    "    print(\"Nenhum arquivo LiDAR (.las ou .laz) encontrado no diretório 'data'.\")\n",
    "    print(\"Por favor, adicione arquivos no diretório ou ajuste o caminho.\")"
   ]
  },
  {
   "cell_type": "code",
   "execution_count": 3,
   "metadata": {},
   "outputs": [
    {
     "name": "stdout",
     "output_type": "stream",
     "text": [
      "\n",
      "Arquivo carregado com sucesso!\n"
     ]
    }
   ],
   "source": [
    "# Carregar o arquivo selecionado\n",
    "# Execute esta célula após selecionar um arquivo no dropdown acima\n",
    "las_data = LidarFileHandler.read_las_file(selected_file_path)"
   ]
  },
  {
   "cell_type": "markdown",
   "metadata": {},
   "source": [
    "## 2. Informações Básicas dos Dados LiDAR"
   ]
  },
  {
   "cell_type": "code",
   "execution_count": 4,
   "metadata": {},
   "outputs": [
    {
     "name": "stdout",
     "output_type": "stream",
     "text": [
      "Versão do formato LAS: 1.4\n",
      "Número total de pontos: 24636066\n",
      "Extensão dos dados:\n",
      "  X: 670000.00 a 671000.00\n",
      "  Y: 4685000.00 a 4686000.00\n",
      "  Z: 1174.95 a 1310.85\n",
      "\n",
      "Atributos disponíveis:\n",
      "  - X\n",
      "  - Y\n",
      "  - Z\n",
      "  - intensity\n",
      "  - return_number\n",
      "  - number_of_returns\n",
      "  - synthetic\n",
      "  - key_point\n",
      "  - withheld\n",
      "  - overlap\n",
      "  - scanner_channel\n",
      "  - scan_direction_flag\n",
      "  - edge_of_flight_line\n",
      "  - classification\n",
      "  - user_data\n",
      "  - scan_angle\n",
      "  - point_source_id\n",
      "  - gps_time\n"
     ]
    }
   ],
   "source": [
    "# Exibir informações básicas sobre o arquivo\n",
    "LidarInfo.print_basic_info(las_data)"
   ]
  },
  {
   "cell_type": "markdown",
   "metadata": {},
   "source": [
    "## 3. Visualização dos Dados LiDAR"
   ]
  },
  {
   "cell_type": "markdown",
   "metadata": {},
   "source": [
    "### 3.1 Visualização 2D"
   ]
  },
  {
   "cell_type": "code",
   "execution_count": null,
   "metadata": {},
   "outputs": [],
   "source": [
    "# Visualização 2D (vista superior)\n",
    "LidarVisualization.plot_2d_view(las_data, max_points=200000, point_size=0.1)"
   ]
  },
  {
   "cell_type": "code",
   "execution_count": null,
   "metadata": {},
   "outputs": [],
   "source": [
    "# Visualização 2D usando hexbin (alternativa para conjuntos densos)\n",
    "LidarVisualization.plot_2d_view(las_data, max_points=500000, use_hexbin=True)"
   ]
  },
  {
   "cell_type": "markdown",
   "metadata": {},
   "source": [
    "### 3.2 Histograma de Elevação"
   ]
  },
  {
   "cell_type": "code",
   "execution_count": null,
   "metadata": {},
   "outputs": [],
   "source": [
    "# Histograma da distribuição de alturas\n",
    "LidarVisualization.plot_elevation_histogram(las_data)"
   ]
  },
  {
   "cell_type": "markdown",
   "metadata": {},
   "source": [
    "### 3.3 Visualização 3D Interativa"
   ]
  },
  {
   "cell_type": "code",
   "execution_count": null,
   "metadata": {},
   "outputs": [],
   "source": [
    "# Visualização 3D interativa com Plotly\n",
    "fig_3d = LidarVisualization.plot_3d_plotly(las_data, max_points=300000, point_size=1, opacity=0.7)\n",
    "fig_3d.show()"
   ]
  },
  {
   "cell_type": "markdown",
   "metadata": {},
   "source": [
    "### 3.4 Visualização com Open3D\n",
    "\n",
    "A próxima célula abrirá uma janela separada com o visualizador 3D do Open3D."
   ]
  },
  {
   "cell_type": "code",
   "execution_count": null,
   "metadata": {},
   "outputs": [],
   "source": [
    "# Visualização com Open3D (abre uma janela separada)\n",
    "# Comentário: Esta visualização permite uma navegação mais fluida na nuvem de pontos\n",
    "LidarVisualization.visualize_open3d(las_data, max_points=500000)"
   ]
  },
  {
   "cell_type": "markdown",
   "metadata": {},
   "source": [
    "## 4. Análise de Atributos LiDAR"
   ]
  },
  {
   "cell_type": "markdown",
   "metadata": {},
   "source": [
    "### 4.1 Análise de Intensidade"
   ]
  },
  {
   "cell_type": "code",
   "execution_count": null,
   "metadata": {},
   "outputs": [],
   "source": [
    "# Visualização da intensidade (se disponível no conjunto de dados)\n",
    "LidarVisualization.plot_intensity(las_data, max_points=200000)"
   ]
  },
  {
   "cell_type": "markdown",
   "metadata": {},
   "source": [
    "### 4.2 Análise de Classificação"
   ]
  },
  {
   "cell_type": "code",
   "execution_count": null,
   "metadata": {},
   "outputs": [],
   "source": [
    "# Estatísticas de classificação (se disponível no conjunto de dados)\n",
    "LidarVisualization.plot_classification_stats(las_data)"
   ]
  },
  {
   "cell_type": "markdown",
   "metadata": {},
   "source": [
    "## 5. Processamento de Dados LiDAR"
   ]
  },
  {
   "cell_type": "markdown",
   "metadata": {},
   "source": [
    "### 5.1 Filtragem de Pontos de Solo"
   ]
  },
  {
   "cell_type": "code",
   "execution_count": null,
   "metadata": {},
   "outputs": [],
   "source": [
    "# Filtrar pontos de solo (classe 2)\n",
    "ground_mask, ground_points = LidarProcessing.filter_ground_points(las_data, visualize=True, max_points=200000)"
   ]
  },
  {
   "cell_type": "markdown",
   "metadata": {},
   "source": [
    "### 5.2 Criação de Modelo Digital de Terreno (MDT)"
   ]
  },
  {
   "cell_type": "code",
   "execution_count": null,
   "metadata": {},
   "outputs": [],
   "source": [
    "# Criar um MDT simples\n",
    "dtm_data = LidarProcessing.create_simple_dtm(las_data, resolution=2.0)\n",
    "\n",
    "# Visualizar o MDT\n",
    "LidarProcessing.visualize_dtm(dtm_data)"
   ]
  },
  {
   "cell_type": "markdown",
   "metadata": {},
   "source": [
    "### 5.3 Segmentação por Altura"
   ]
  },
  {
   "cell_type": "code",
   "execution_count": null,
   "metadata": {},
   "outputs": [],
   "source": [
    "# Segmentar a nuvem de pontos por faixas de altura\n",
    "height_masks, height_categories = LidarProcessing.segment_by_height(las_data, max_points=300000)"
   ]
  },
  {
   "cell_type": "markdown",
   "metadata": {},
   "source": [
    "## 6. Exportação de Dados"
   ]
  },
  {
   "cell_type": "code",
   "execution_count": null,
   "metadata": {},
   "outputs": [],
   "source": [
    "# Exportar subconjunto de pontos (exemplo: apenas pontos de solo)\n",
    "# Certifique-se de que ground_mask foi obtido anteriormente\n",
    "if 'ground_mask' in locals() and ground_mask is not None:\n",
    "    output_path = os.path.join(data_dir, \"ground_points_export.las\")\n",
    "    LidarFileHandler.export_subset(las_data, output_path, mask=ground_mask)\n",
    "    print(f\"Output salvo em: {output_path}\")"
   ]
  },
  {
   "cell_type": "markdown",
   "metadata": {},
   "source": [
    "## Conclusão\n",
    "\n",
    "Este notebook demonstrou as funcionalidades básicas para processamento e visualização de dados LiDAR.\n",
    "\n",
    "Você pode adaptar este código para seus próprios projetos, explorando diferentes parâmetros e combinações de técnicas."
   ]
  }
 ],
 "metadata": {
  "kernelspec": {
   "display_name": "Python 3",
   "language": "python",
   "name": "python3"
  },
  "language_info": {
   "codemirror_mode": {
    "name": "ipython",
    "version": 3
   },
   "file_extension": ".py",
   "mimetype": "text/x-python",
   "name": "python",
   "nbconvert_exporter": "python",
   "pygments_lexer": "ipython3",
   "version": "3.12.9"
  }
 },
 "nbformat": 4,
 "nbformat_minor": 2
}
